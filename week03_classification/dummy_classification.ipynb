{
 "nbformat": 4,
 "nbformat_minor": 0,
 "metadata": {
  "colab": {
   "provenance": []
  },
  "kernelspec": {
   "name": "python3",
   "display_name": "Python 3 (ipykernel)",
   "language": "python"
  },
  "language_info": {
   "name": "python"
  }
 },
 "cells": [
  {
   "cell_type": "code",
   "metadata": {
    "colab": {
     "base_uri": "https://localhost:8080/"
    },
    "id": "6zDVV74O4zy1",
    "outputId": "d2bb49e5-ecb3-4139-b7dc-dc2d8225066a",
    "ExecuteTime": {
     "end_time": "2025-09-24T13:57:27.338576Z",
     "start_time": "2025-09-24T13:57:27.336770Z"
    }
   },
   "source": "# !pip install gensim scikit-learn pandas",
   "outputs": [],
   "execution_count": 3
  },
  {
   "cell_type": "code",
   "source": [
    "import random\n",
    "import pandas as pd\n",
    "import numpy as np\n",
    "import gensim.downloader as api\n",
    "from sklearn.linear_model import LogisticRegression\n",
    "from sklearn.model_selection import train_test_split\n",
    "from sklearn.metrics import classification_report\n",
    "from sklearn.feature_extraction.text import TfidfVectorizer"
   ],
   "metadata": {
    "id": "JFdoLLal41gN",
    "ExecuteTime": {
     "end_time": "2025-09-24T13:57:27.345458Z",
     "start_time": "2025-09-24T13:57:27.343783Z"
    }
   },
   "outputs": [],
   "execution_count": 4
  },
  {
   "cell_type": "markdown",
   "source": [
    "**Fix random seed for reproducibility**"
   ],
   "metadata": {
    "id": "usCpVwqq87oZ"
   }
  },
  {
   "cell_type": "code",
   "source": [
    "SEED = 42\n",
    "random.seed(SEED)\n",
    "np.random.seed(SEED)"
   ],
   "metadata": {
    "id": "Wk1rO-Gt7hNm",
    "ExecuteTime": {
     "end_time": "2025-09-24T13:57:27.353507Z",
     "start_time": "2025-09-24T13:57:27.352012Z"
    }
   },
   "outputs": [],
   "execution_count": 5
  },
  {
   "cell_type": "markdown",
   "source": [
    "**Load dataset (SMS Spam Collection)**"
   ],
   "metadata": {
    "id": "qd3eRUkN9BnO"
   }
  },
  {
   "cell_type": "code",
   "source": [
    "url = \"https://raw.githubusercontent.com/justmarkham/pycon-2016-tutorial/master/data/sms.tsv\"\n",
    "df = pd.read_table(url, header=None, names=[\"label\", \"text\"])\n",
    "df[\"label\"] = df[\"label\"].map({\"ham\":0, \"spam\":1})"
   ],
   "metadata": {
    "id": "iHvGOsXv5Ai9",
    "ExecuteTime": {
     "end_time": "2025-09-24T13:57:27.728998Z",
     "start_time": "2025-09-24T13:57:27.357343Z"
    }
   },
   "outputs": [],
   "execution_count": 6
  },
  {
   "cell_type": "code",
   "source": [
    "df.head(5)"
   ],
   "metadata": {
    "colab": {
     "base_uri": "https://localhost:8080/",
     "height": 204
    },
    "id": "lPV2n-wX5F_Y",
    "outputId": "bc32b78c-7f7d-4b8f-c1c5-74e37aa778be",
    "ExecuteTime": {
     "end_time": "2025-09-24T14:59:26.211380Z",
     "start_time": "2025-09-24T14:59:26.206070Z"
    }
   },
   "outputs": [
    {
     "data": {
      "text/plain": [
       "   label                                               text\n",
       "0      0  Go until jurong point, crazy.. Available only ...\n",
       "1      0                      Ok lar... Joking wif u oni...\n",
       "2      1  Free entry in 2 a wkly comp to win FA Cup fina...\n",
       "3      0  U dun say so early hor... U c already then say...\n",
       "4      0  Nah I don't think he goes to usf, he lives aro..."
      ],
      "text/html": [
       "<div>\n",
       "<style scoped>\n",
       "    .dataframe tbody tr th:only-of-type {\n",
       "        vertical-align: middle;\n",
       "    }\n",
       "\n",
       "    .dataframe tbody tr th {\n",
       "        vertical-align: top;\n",
       "    }\n",
       "\n",
       "    .dataframe thead th {\n",
       "        text-align: right;\n",
       "    }\n",
       "</style>\n",
       "<table border=\"1\" class=\"dataframe\">\n",
       "  <thead>\n",
       "    <tr style=\"text-align: right;\">\n",
       "      <th></th>\n",
       "      <th>label</th>\n",
       "      <th>text</th>\n",
       "    </tr>\n",
       "  </thead>\n",
       "  <tbody>\n",
       "    <tr>\n",
       "      <th>0</th>\n",
       "      <td>0</td>\n",
       "      <td>Go until jurong point, crazy.. Available only ...</td>\n",
       "    </tr>\n",
       "    <tr>\n",
       "      <th>1</th>\n",
       "      <td>0</td>\n",
       "      <td>Ok lar... Joking wif u oni...</td>\n",
       "    </tr>\n",
       "    <tr>\n",
       "      <th>2</th>\n",
       "      <td>1</td>\n",
       "      <td>Free entry in 2 a wkly comp to win FA Cup fina...</td>\n",
       "    </tr>\n",
       "    <tr>\n",
       "      <th>3</th>\n",
       "      <td>0</td>\n",
       "      <td>U dun say so early hor... U c already then say...</td>\n",
       "    </tr>\n",
       "    <tr>\n",
       "      <th>4</th>\n",
       "      <td>0</td>\n",
       "      <td>Nah I don't think he goes to usf, he lives aro...</td>\n",
       "    </tr>\n",
       "  </tbody>\n",
       "</table>\n",
       "</div>"
      ]
     },
     "execution_count": 36,
     "metadata": {},
     "output_type": "execute_result"
    }
   ],
   "execution_count": 36
  },
  {
   "metadata": {
    "ExecuteTime": {
     "end_time": "2025-09-24T14:59:25.538454Z",
     "start_time": "2025-09-24T14:59:25.530904Z"
    }
   },
   "cell_type": "code",
   "source": "df = df.drop_duplicates(subset=[\"text\"])",
   "outputs": [],
   "execution_count": 35
  },
  {
   "metadata": {
    "ExecuteTime": {
     "end_time": "2025-09-24T13:57:27.781239Z",
     "start_time": "2025-09-24T13:57:27.778565Z"
    }
   },
   "cell_type": "code",
   "source": "len(df)",
   "outputs": [
    {
     "data": {
      "text/plain": [
       "5169"
      ]
     },
     "execution_count": 9,
     "metadata": {},
     "output_type": "execute_result"
    }
   ],
   "execution_count": 9
  },
  {
   "metadata": {
    "ExecuteTime": {
     "end_time": "2025-09-24T14:59:27.153150Z",
     "start_time": "2025-09-24T14:59:27.144534Z"
    }
   },
   "cell_type": "code",
   "source": "df",
   "outputs": [
    {
     "data": {
      "text/plain": [
       "      label                                               text\n",
       "0         0  Go until jurong point, crazy.. Available only ...\n",
       "1         0                      Ok lar... Joking wif u oni...\n",
       "2         1  Free entry in 2 a wkly comp to win FA Cup fina...\n",
       "3         0  U dun say so early hor... U c already then say...\n",
       "4         0  Nah I don't think he goes to usf, he lives aro...\n",
       "...     ...                                                ...\n",
       "5567      1  This is the 2nd time we have tried 2 contact u...\n",
       "5568      0               Will ü b going to esplanade fr home?\n",
       "5569      0  Pity, * was in mood for that. So...any other s...\n",
       "5570      0  The guy did some bitching but I acted like i'd...\n",
       "5571      0                         Rofl. Its true to its name\n",
       "\n",
       "[5169 rows x 2 columns]"
      ],
      "text/html": [
       "<div>\n",
       "<style scoped>\n",
       "    .dataframe tbody tr th:only-of-type {\n",
       "        vertical-align: middle;\n",
       "    }\n",
       "\n",
       "    .dataframe tbody tr th {\n",
       "        vertical-align: top;\n",
       "    }\n",
       "\n",
       "    .dataframe thead th {\n",
       "        text-align: right;\n",
       "    }\n",
       "</style>\n",
       "<table border=\"1\" class=\"dataframe\">\n",
       "  <thead>\n",
       "    <tr style=\"text-align: right;\">\n",
       "      <th></th>\n",
       "      <th>label</th>\n",
       "      <th>text</th>\n",
       "    </tr>\n",
       "  </thead>\n",
       "  <tbody>\n",
       "    <tr>\n",
       "      <th>0</th>\n",
       "      <td>0</td>\n",
       "      <td>Go until jurong point, crazy.. Available only ...</td>\n",
       "    </tr>\n",
       "    <tr>\n",
       "      <th>1</th>\n",
       "      <td>0</td>\n",
       "      <td>Ok lar... Joking wif u oni...</td>\n",
       "    </tr>\n",
       "    <tr>\n",
       "      <th>2</th>\n",
       "      <td>1</td>\n",
       "      <td>Free entry in 2 a wkly comp to win FA Cup fina...</td>\n",
       "    </tr>\n",
       "    <tr>\n",
       "      <th>3</th>\n",
       "      <td>0</td>\n",
       "      <td>U dun say so early hor... U c already then say...</td>\n",
       "    </tr>\n",
       "    <tr>\n",
       "      <th>4</th>\n",
       "      <td>0</td>\n",
       "      <td>Nah I don't think he goes to usf, he lives aro...</td>\n",
       "    </tr>\n",
       "    <tr>\n",
       "      <th>...</th>\n",
       "      <td>...</td>\n",
       "      <td>...</td>\n",
       "    </tr>\n",
       "    <tr>\n",
       "      <th>5567</th>\n",
       "      <td>1</td>\n",
       "      <td>This is the 2nd time we have tried 2 contact u...</td>\n",
       "    </tr>\n",
       "    <tr>\n",
       "      <th>5568</th>\n",
       "      <td>0</td>\n",
       "      <td>Will ü b going to esplanade fr home?</td>\n",
       "    </tr>\n",
       "    <tr>\n",
       "      <th>5569</th>\n",
       "      <td>0</td>\n",
       "      <td>Pity, * was in mood for that. So...any other s...</td>\n",
       "    </tr>\n",
       "    <tr>\n",
       "      <th>5570</th>\n",
       "      <td>0</td>\n",
       "      <td>The guy did some bitching but I acted like i'd...</td>\n",
       "    </tr>\n",
       "    <tr>\n",
       "      <th>5571</th>\n",
       "      <td>0</td>\n",
       "      <td>Rofl. Its true to its name</td>\n",
       "    </tr>\n",
       "  </tbody>\n",
       "</table>\n",
       "<p>5169 rows × 2 columns</p>\n",
       "</div>"
      ]
     },
     "execution_count": 37,
     "metadata": {},
     "output_type": "execute_result"
    }
   ],
   "execution_count": 37
  },
  {
   "cell_type": "code",
   "source": [
    "df[\"text\"][:10].values"
   ],
   "metadata": {
    "id": "rL6t5i85DdM8",
    "outputId": "4ae44ca0-4e28-4a32-9921-fd1ef3f36739",
    "colab": {
     "base_uri": "https://localhost:8080/"
    },
    "ExecuteTime": {
     "end_time": "2025-09-24T13:57:27.813676Z",
     "start_time": "2025-09-24T13:57:27.811195Z"
    }
   },
   "outputs": [
    {
     "data": {
      "text/plain": [
       "array(['Go until jurong point, crazy.. Available only in bugis n great world la e buffet... Cine there got amore wat...',\n",
       "       'Ok lar... Joking wif u oni...',\n",
       "       \"Free entry in 2 a wkly comp to win FA Cup final tkts 21st May 2005. Text FA to 87121 to receive entry question(std txt rate)T&C's apply 08452810075over18's\",\n",
       "       'U dun say so early hor... U c already then say...',\n",
       "       \"Nah I don't think he goes to usf, he lives around here though\",\n",
       "       \"FreeMsg Hey there darling it's been 3 week's now and no word back! I'd like some fun you up for it still? Tb ok! XxX std chgs to send, £1.50 to rcv\",\n",
       "       'Even my brother is not like to speak with me. They treat me like aids patent.',\n",
       "       \"As per your request 'Melle Melle (Oru Minnaminunginte Nurungu Vettam)' has been set as your callertune for all Callers. Press *9 to copy your friends Callertune\",\n",
       "       'WINNER!! As a valued network customer you have been selected to receivea £900 prize reward! To claim call 09061701461. Claim code KL341. Valid 12 hours only.',\n",
       "       'Had your mobile 11 months or more? U R entitled to Update to the latest colour mobiles with camera for Free! Call The Mobile Update Co FREE on 08002986030'],\n",
       "      dtype=object)"
      ]
     },
     "execution_count": 11,
     "metadata": {},
     "output_type": "execute_result"
    }
   ],
   "execution_count": 11
  },
  {
   "cell_type": "markdown",
   "source": [
    "** Load pretrained Word2Vec (Google News 300d)**"
   ],
   "metadata": {
    "id": "9yLDuuGl9Ee7"
   }
  },
  {
   "cell_type": "code",
   "source": [
    "%%time\n",
    "kv = api.load(\"word2vec-google-news-300\")\n",
    "kv.fill_norms()"
   ],
   "metadata": {
    "colab": {
     "base_uri": "https://localhost:8080/"
    },
    "id": "GxnSa-PQ5HP7",
    "outputId": "d0de57ae-d3cd-4e12-fee5-a09683f2c68a",
    "ExecuteTime": {
     "end_time": "2025-09-24T13:57:51.905619Z",
     "start_time": "2025-09-24T13:57:27.828211Z"
    }
   },
   "outputs": [
    {
     "name": "stdout",
     "output_type": "stream",
     "text": [
      "CPU times: user 19.2 s, sys: 3.77 s, total: 23 s\n",
      "Wall time: 24.1 s\n"
     ]
    }
   ],
   "execution_count": 12
  },
  {
   "cell_type": "code",
   "source": [
    "print(\"Word2Vec vocabulary size:\", len(kv))"
   ],
   "metadata": {
    "colab": {
     "base_uri": "https://localhost:8080/"
    },
    "id": "PX9B0PYo9JAJ",
    "outputId": "c7ff8130-0751-4a6a-fd15-4770175e589b",
    "ExecuteTime": {
     "end_time": "2025-09-24T13:57:51.939902Z",
     "start_time": "2025-09-24T13:57:51.936917Z"
    }
   },
   "outputs": [
    {
     "name": "stdout",
     "output_type": "stream",
     "text": [
      "Word2Vec vocabulary size: 3000000\n"
     ]
    }
   ],
   "execution_count": 13
  },
  {
   "cell_type": "markdown",
   "source": [
    "**Tokenization**"
   ],
   "metadata": {
    "id": "sxkeO5gV9MXt"
   }
  },
  {
   "cell_type": "code",
   "source": [
    "tokenized = [t.lower().split() for t in df[\"text\"]]"
   ],
   "metadata": {
    "id": "RNB1DnvL59ew",
    "ExecuteTime": {
     "end_time": "2025-09-24T13:57:52.038239Z",
     "start_time": "2025-09-24T13:57:51.958174Z"
    }
   },
   "outputs": [],
   "execution_count": 14
  },
  {
   "cell_type": "code",
   "source": [
    "tokenized[0]"
   ],
   "metadata": {
    "colab": {
     "base_uri": "https://localhost:8080/"
    },
    "id": "FO6CccA99OLX",
    "outputId": "91573619-c337-4e9e-aecd-14e9d1127b4d",
    "ExecuteTime": {
     "end_time": "2025-09-24T13:57:52.047212Z",
     "start_time": "2025-09-24T13:57:52.044902Z"
    }
   },
   "outputs": [
    {
     "data": {
      "text/plain": [
       "['go',\n",
       " 'until',\n",
       " 'jurong',\n",
       " 'point,',\n",
       " 'crazy..',\n",
       " 'available',\n",
       " 'only',\n",
       " 'in',\n",
       " 'bugis',\n",
       " 'n',\n",
       " 'great',\n",
       " 'world',\n",
       " 'la',\n",
       " 'e',\n",
       " 'buffet...',\n",
       " 'cine',\n",
       " 'there',\n",
       " 'got',\n",
       " 'amore',\n",
       " 'wat...']"
      ]
     },
     "execution_count": 15,
     "metadata": {},
     "output_type": "execute_result"
    }
   ],
   "execution_count": 15
  },
  {
   "cell_type": "markdown",
   "source": [
    "**Simple averaging of word vectors**"
   ],
   "metadata": {
    "id": "JyZQryAJ9YAU"
   }
  },
  {
   "cell_type": "code",
   "source": [
    "def sent_vector_mean(tokens):\n",
    "    vecs = [kv[w] for w in tokens if w in kv]\n",
    "    return np.mean(vecs, axis=0) if vecs else np.zeros(kv.vector_size)\n",
    "\n",
    "X_mean = np.array([sent_vector_mean(t) for t in tokenized])"
   ],
   "metadata": {
    "id": "pUdfTRBB6SWn",
    "ExecuteTime": {
     "end_time": "2025-09-24T13:57:52.192178Z",
     "start_time": "2025-09-24T13:57:52.058225Z"
    }
   },
   "outputs": [],
   "execution_count": 16
  },
  {
   "cell_type": "markdown",
   "source": [
    "**Weighted averaging using TF-IDF**\n",
    "\n",
    "**First, build IDF dictionary on tokenized corpus**"
   ],
   "metadata": {
    "id": "44x5fmPG9b0_"
   }
  },
  {
   "cell_type": "code",
   "source": [
    "vectorizer = TfidfVectorizer(tokenizer=lambda x: x, lowercase=False)\n",
    "vectorizer.fit(tokenized)\n",
    "idf = dict(zip(vectorizer.get_feature_names_out(), vectorizer.idf_))"
   ],
   "metadata": {
    "colab": {
     "base_uri": "https://localhost:8080/"
    },
    "id": "8uJmKcIK6V9B",
    "outputId": "42923bad-8f44-4310-b9e5-2643e5138d47",
    "ExecuteTime": {
     "end_time": "2025-09-24T13:57:52.237828Z",
     "start_time": "2025-09-24T13:57:52.196652Z"
    }
   },
   "outputs": [
    {
     "name": "stderr",
     "output_type": "stream",
     "text": [
      "/opt/anaconda3/envs/bio-nlp-env/lib/python3.12/site-packages/sklearn/feature_extraction/text.py:517: UserWarning: The parameter 'token_pattern' will not be used since 'tokenizer' is not None'\n",
      "  warnings.warn(\n"
     ]
    }
   ],
   "execution_count": 17
  },
  {
   "cell_type": "code",
   "source": [
    "def sent_vector_weighted(tokens):\n",
    "    vecs, weights = [], []\n",
    "    for w in tokens:\n",
    "        # Check that the word exists both in the Word2Vec vocabulary and in the IDF dictionary\n",
    "        if w in kv and w in idf:\n",
    "            vecs.append(kv[w])      # get the Word2Vec vector for this word\n",
    "            weights.append(idf[w])  # get the IDF weight for this word\n",
    "\n",
    "    if vecs:\n",
    "        # Stack all word vectors into a 2D matrix: [n_words x vector_dim]\n",
    "        vecs = np.vstack(vecs)\n",
    "\n",
    "        # Convert weights into a column vector: [n_words x 1]\n",
    "        weights = np.array(weights).reshape(-1, 1)\n",
    "\n",
    "        # Compute the weighted average:\n",
    "        # multiply each word vector by its weight, sum across words,\n",
    "        # then normalize by the total weight sum\n",
    "        return np.sum(vecs * weights, axis=0) / np.sum(weights)\n",
    "    else:\n",
    "        # If no valid words are found, return a zero vector of the same dimension\n",
    "        return np.zeros(kv.vector_size)\n",
    "\n",
    "X_weighted = np.array([sent_vector_weighted(t) for t in tokenized])"
   ],
   "metadata": {
    "id": "2z8nV3Pb6cDs",
    "ExecuteTime": {
     "end_time": "2025-09-24T13:57:52.386318Z",
     "start_time": "2025-09-24T13:57:52.248096Z"
    }
   },
   "outputs": [],
   "execution_count": 18
  },
  {
   "cell_type": "markdown",
   "source": [
    "**Build feature matrices**"
   ],
   "metadata": {
    "id": "UpevavUL-FM3"
   }
  },
  {
   "cell_type": "code",
   "source": [
    "X_mean = np.array([sent_vector_mean(t) for t in tokenized])\n",
    "X_weighted = np.array([sent_vector_weighted(t) for t in tokenized])\n",
    "y = df[\"label\"].values"
   ],
   "metadata": {
    "id": "MWRN89oQ-E0T",
    "ExecuteTime": {
     "end_time": "2025-09-24T13:57:52.626093Z",
     "start_time": "2025-09-24T13:57:52.390071Z"
    }
   },
   "outputs": [],
   "execution_count": 19
  },
  {
   "cell_type": "markdown",
   "source": [
    "**Train/Test Split**"
   ],
   "metadata": {
    "id": "Qy7CSE3V-NCq"
   }
  },
  {
   "cell_type": "code",
   "source": [
    "y = df[\"label\"].values\n",
    "\n",
    "# split indices once\n",
    "idx = np.arange(len(y))\n",
    "\n",
    "train_idx, test_idx, y_train, y_test = train_test_split(\n",
    "    idx, y, test_size=0.2, random_state=SEED\n",
    ")\n",
    "\n",
    "# apply the same split to both feature sets\n",
    "X_mean_train, X_mean_test = X_mean[train_idx], X_mean[test_idx]\n",
    "X_w_train, X_w_test = X_weighted[train_idx], X_weighted[test_idx]"
   ],
   "metadata": {
    "id": "oILCLuWG6te8",
    "ExecuteTime": {
     "end_time": "2025-09-24T13:57:52.640634Z",
     "start_time": "2025-09-24T13:57:52.629724Z"
    }
   },
   "outputs": [],
   "execution_count": 20
  },
  {
   "cell_type": "code",
   "source": [
    "clf_mean = LogisticRegression(max_iter=1000)\n",
    "clf_mean.fit(X_mean_train, y_train)\n",
    "y_pred_mean = clf_mean.predict(X_mean_test)\n",
    "\n",
    "print(\"=== Simple sent_vector_mean ===\")\n",
    "print(classification_report(y_test, y_pred_mean))"
   ],
   "metadata": {
    "colab": {
     "base_uri": "https://localhost:8080/"
    },
    "id": "-fI17vMp6w_f",
    "outputId": "003b1bad-f667-47ff-d6de-c11a9e3b125d",
    "ExecuteTime": {
     "end_time": "2025-09-24T13:57:52.759640Z",
     "start_time": "2025-09-24T13:57:52.652489Z"
    }
   },
   "outputs": [
    {
     "name": "stdout",
     "output_type": "stream",
     "text": [
      "=== Simple sent_vector_mean ===\n",
      "              precision    recall  f1-score   support\n",
      "\n",
      "           0       0.96      0.99      0.97       894\n",
      "           1       0.90      0.74      0.81       140\n",
      "\n",
      "    accuracy                           0.95      1034\n",
      "   macro avg       0.93      0.86      0.89      1034\n",
      "weighted avg       0.95      0.95      0.95      1034\n",
      "\n"
     ]
    }
   ],
   "execution_count": 21
  },
  {
   "cell_type": "code",
   "source": [
    "clf_weighted = LogisticRegression(max_iter=1000)\n",
    "clf_weighted.fit(X_w_train, y_train)\n",
    "y_pred_weighted = clf_weighted.predict(X_w_test)\n",
    "\n",
    "print(\"=== sent_vector_weighted (TF-IDF) ===\")\n",
    "print(classification_report(y_test, y_pred_weighted))"
   ],
   "metadata": {
    "colab": {
     "base_uri": "https://localhost:8080/"
    },
    "id": "Svn0Egqg60uX",
    "outputId": "0d7feb56-89e6-48b8-d9e8-e9ac4c0ef768",
    "ExecuteTime": {
     "end_time": "2025-09-24T13:57:52.832648Z",
     "start_time": "2025-09-24T13:57:52.789247Z"
    }
   },
   "outputs": [
    {
     "name": "stdout",
     "output_type": "stream",
     "text": [
      "=== sent_vector_weighted (TF-IDF) ===\n",
      "              precision    recall  f1-score   support\n",
      "\n",
      "           0       0.96      0.99      0.97       894\n",
      "           1       0.89      0.75      0.81       140\n",
      "\n",
      "    accuracy                           0.95      1034\n",
      "   macro avg       0.93      0.87      0.89      1034\n",
      "weighted avg       0.95      0.95      0.95      1034\n",
      "\n"
     ]
    }
   ],
   "execution_count": 22
  },
  {
   "cell_type": "markdown",
   "source": [
    "TF-IDF weighting is more useful for **longer, noisier documents** (like news or reviews), but for **short texts + strong pretrained embeddings**, simple averaging is already a very strong baseline.\n"
   ],
   "metadata": {
    "id": "JTGY-7Tr8tmb"
   }
  },
  {
   "cell_type": "code",
   "source": [
    "def predict_sms(text, model, kv, threshold=0.5):\n",
    "\n",
    "    # tokenize\n",
    "    tokens = text.lower().split()\n",
    "\n",
    "    # use your ready function for vectorization\n",
    "    sms_vec = sent_vector_mean(tokens).reshape(1, -1)\n",
    "\n",
    "    # predict class and probability\n",
    "    prob = model.predict_proba(sms_vec)[0, 1]   # probability of spam\n",
    "    pred_class = int(prob >= threshold)\n",
    "\n",
    "    print(\"Text:\", text)\n",
    "    print(\"Prediction:\", \"spam\" if pred_class == 1 else \"ham\")\n",
    "    print(\"Spam probability:\", round(prob, 3))\n"
   ],
   "metadata": {
    "id": "H9js0vO-8xXq",
    "ExecuteTime": {
     "end_time": "2025-09-24T15:12:42.887712Z",
     "start_time": "2025-09-24T15:12:42.885280Z"
    }
   },
   "outputs": [],
   "execution_count": 45
  },
  {
   "cell_type": "code",
   "source": [
    "sms = \"Congratulations! You have won a free lottery ticket.\"\n",
    "predict_sms(sms, clf_mean, kv)"
   ],
   "metadata": {
    "colab": {
     "base_uri": "https://localhost:8080/"
    },
    "id": "lZ6T7ZnI_YUo",
    "outputId": "986826da-f4af-45eb-a47b-4f5c92471c3f",
    "ExecuteTime": {
     "end_time": "2025-09-24T13:57:52.865433Z",
     "start_time": "2025-09-24T13:57:52.860353Z"
    }
   },
   "outputs": [
    {
     "name": "stdout",
     "output_type": "stream",
     "text": [
      "Text: Congratulations! You have won a free lottery ticket.\n",
      "Prediction: spam\n",
      "Spam probability: 0.893\n"
     ]
    }
   ],
   "execution_count": 24
  },
  {
   "cell_type": "code",
   "source": [
    "sms = \"Congrats on winning the lottery in our office party raffle 😄\"\n",
    "predict_sms(sms, clf_mean, kv)"
   ],
   "metadata": {
    "colab": {
     "base_uri": "https://localhost:8080/"
    },
    "id": "MYHaK59K_rg1",
    "outputId": "d66b1df4-9664-4c0d-c077-27c6c5e7d9a5",
    "ExecuteTime": {
     "end_time": "2025-09-24T15:12:35.128805Z",
     "start_time": "2025-09-24T15:12:35.122823Z"
    }
   },
   "outputs": [
    {
     "name": "stdout",
     "output_type": "stream",
     "text": [
      "Text: Congrats on winning the lottery in our office party raffle 😄\n",
      "Prediction: ham\n",
      "Spam probability: 0.671\n"
     ]
    }
   ],
   "execution_count": 44
  },
  {
   "cell_type": "code",
   "source": [
    "sms = \"Reminder: Your doctor’s appointment is tomorrow at 10 AM.\"\n",
    "predict_sms(sms, clf_mean, kv)"
   ],
   "metadata": {
    "colab": {
     "base_uri": "https://localhost:8080/"
    },
    "id": "nUmniRAV_-8d",
    "outputId": "bbb1d556-aa4e-410a-c421-b2afbfececcc",
    "ExecuteTime": {
     "end_time": "2025-09-24T13:57:52.924822Z",
     "start_time": "2025-09-24T13:57:52.912952Z"
    }
   },
   "outputs": [
    {
     "name": "stdout",
     "output_type": "stream",
     "text": [
      "Text: Reminder: Your doctor’s appointment is tomorrow at 10 AM.\n",
      "Prediction: ham\n",
      "Spam probability: 0.118\n"
     ]
    }
   ],
   "execution_count": 26
  },
  {
   "cell_type": "code",
   "source": [
    "sms = \"Reminder: Your doctor’s appointment is tomorrow at 10 AM. Free\"\n",
    "predict_sms(sms, clf_mean, kv)"
   ],
   "metadata": {
    "id": "3Xx1awiSDuXL",
    "outputId": "0adf9bda-a4d2-4eda-a15d-2f33407bf430",
    "colab": {
     "base_uri": "https://localhost:8080/"
    },
    "ExecuteTime": {
     "end_time": "2025-09-24T13:57:52.968120Z",
     "start_time": "2025-09-24T13:57:52.952587Z"
    }
   },
   "outputs": [
    {
     "name": "stdout",
     "output_type": "stream",
     "text": [
      "Text: Reminder: Your doctor’s appointment is tomorrow at 10 AM. Free\n",
      "Prediction: ham\n",
      "Spam probability: 0.363\n"
     ]
    }
   ],
   "execution_count": 27
  },
  {
   "cell_type": "code",
   "source": [
    "sms = \"Reminder: Your doctor’s appointment is tomorrow at 10 AM. Free Free\"\n",
    "predict_sms(sms, clf_mean, kv)"
   ],
   "metadata": {
    "id": "XR1YHDqBDyt2",
    "outputId": "e188a8d4-8211-45ef-da7a-3c2d3661ae9c",
    "colab": {
     "base_uri": "https://localhost:8080/"
    },
    "ExecuteTime": {
     "end_time": "2025-09-24T13:57:53.015887Z",
     "start_time": "2025-09-24T13:57:52.999207Z"
    }
   },
   "outputs": [
    {
     "name": "stdout",
     "output_type": "stream",
     "text": [
      "Text: Reminder: Your doctor’s appointment is tomorrow at 10 AM. Free Free\n",
      "Prediction: spam\n",
      "Spam probability: 0.629\n"
     ]
    }
   ],
   "execution_count": 28
  },
  {
   "metadata": {
    "ExecuteTime": {
     "end_time": "2025-09-24T15:09:52.981330Z",
     "start_time": "2025-09-24T15:09:52.978231Z"
    }
   },
   "cell_type": "code",
   "source": [
    "sms = \"Reminder: Your doctor’s appointment is tomorrow at 10 AM. Free Free Free\"\n",
    "predict_sms(sms, clf_mean, kv)"
   ],
   "outputs": [
    {
     "name": "stdout",
     "output_type": "stream",
     "text": [
      "Text: Reminder: Your appointment is tomorrow at 10 AM. Free Free Free\n",
      "Prediction: spam\n",
      "Spam probability: 0.798\n"
     ]
    }
   ],
   "execution_count": 42
  },
  {
   "cell_type": "code",
   "source": [
    "|sms = \"Your card was used for $120 at StoreX. Reply YES if it was you.\"\n",
    "predict_sms(sms, clf_mean, kv)"
   ],
   "metadata": {
    "colab": {
     "base_uri": "https://localhost:8080/"
    },
    "id": "q-zbvVLyASih",
    "outputId": "c4d7c4a7-7cba-43b8-d159-49e031aa67e5",
    "ExecuteTime": {
     "end_time": "2025-09-24T13:57:53.048078Z",
     "start_time": "2025-09-24T13:57:53.042719Z"
    }
   },
   "outputs": [
    {
     "name": "stdout",
     "output_type": "stream",
     "text": [
      "Text: Your card was used for $120 at StoreX. Reply YES if it was you.\n",
      "Prediction: ham\n",
      "Spam probability: 0.131\n"
     ]
    }
   ],
   "execution_count": 29
  },
  {
   "cell_type": "code",
   "source": [
    "sms = \"Netflix: Your subscription is expiring. Renew now and get 1 month free.\"\n",
    "predict_sms(sms, clf_mean, kv)"
   ],
   "metadata": {
    "colab": {
     "base_uri": "https://localhost:8080/"
    },
    "id": "9E0MyC9WAS1P",
    "outputId": "affce29c-71d1-4e54-aa12-b491fb66318d",
    "ExecuteTime": {
     "end_time": "2025-09-24T13:57:53.089637Z",
     "start_time": "2025-09-24T13:57:53.075843Z"
    }
   },
   "outputs": [
    {
     "name": "stdout",
     "output_type": "stream",
     "text": [
      "Text: Netflix: Your subscription is expiring. Renew now and get 1 month free.\n",
      "Prediction: spam\n",
      "Spam probability: 0.834\n"
     ]
    }
   ],
   "execution_count": 30
  },
  {
   "cell_type": "code",
   "source": [
    "sms = \"Invest in our new crypto token $MOON. Guaranteed 10x profit in 7 days!\"\n",
    "predict_sms(sms, clf_mean, kv)"
   ],
   "metadata": {
    "colab": {
     "base_uri": "https://localhost:8080/"
    },
    "id": "BtFxrQwsAh4-",
    "outputId": "051e3ca2-3c09-4219-a340-05e077589df3",
    "ExecuteTime": {
     "end_time": "2025-09-24T13:57:53.105091Z",
     "start_time": "2025-09-24T13:57:53.102882Z"
    }
   },
   "outputs": [
    {
     "name": "stdout",
     "output_type": "stream",
     "text": [
      "Text: Invest in our new crypto token $MOON. Guaranteed 10x profit in 7 days!\n",
      "Prediction: spam\n",
      "Spam probability: 0.553\n"
     ]
    }
   ],
   "execution_count": 31
  },
  {
   "cell_type": "code",
   "source": [
    "import matplotlib.pyplot as plt\n",
    "from sklearn.metrics import precision_recall_curve, average_precision_score\n",
    "\n",
    "# ==== 1. Get predicted probabilities ====\n",
    "# for \"spam\" class (label=1)\n",
    "y_scores_mean = clf_mean.predict_proba(X_mean_test)[:, 1]\n",
    "y_scores_weighted = clf_weighted.predict_proba(X_w_test)[:, 1]\n",
    "\n",
    "# ==== 2. Compute curves ====\n",
    "precision_mean, recall_mean, _ = precision_recall_curve(y_test, y_scores_mean)\n",
    "precision_w, recall_w, _ = precision_recall_curve(y_test, y_scores_weighted)\n",
    "\n",
    "# Average Precision (area under PR curve)\n",
    "ap_mean = average_precision_score(y_test, y_scores_mean)\n",
    "ap_w = average_precision_score(y_test, y_scores_weighted)\n",
    "\n",
    "# ==== 3. Plot ====\n",
    "plt.figure(figsize=(7, 5))\n",
    "\n",
    "#AP is the area under the Precision–Recall curve.\n",
    "plt.plot(recall_mean, precision_mean, label=f\"Mean averaging (AP = {ap_mean:.3f})\")\n",
    "plt.plot(recall_w, precision_w, label=f\"TF-IDF weighted (AP = {ap_w:.3f})\")\n",
    "\n",
    "plt.xlabel(\"Recall\")\n",
    "plt.ylabel(\"Precision\")\n",
    "plt.title(\"Precision-Recall Curve (Spam class)\")\n",
    "plt.legend()\n",
    "plt.grid(True)\n",
    "plt.show()\n"
   ],
   "metadata": {
    "colab": {
     "base_uri": "https://localhost:8080/",
     "height": 487
    },
    "id": "R-fc3NWJBKeL",
    "outputId": "3de57b25-0b1c-416b-e102-2875bc020ffb",
    "ExecuteTime": {
     "end_time": "2025-09-24T13:58:42.667904Z",
     "start_time": "2025-09-24T13:58:42.562015Z"
    }
   },
   "outputs": [
    {
     "data": {
      "text/plain": [
       "<Figure size 700x500 with 1 Axes>"
      ],
      "image/png": "[encoded data removed]"
     },
     "metadata": {},
     "output_type": "display_data"
    }
   ],
   "execution_count": 33
  },
  {
   "cell_type": "markdown",
   "source": [
    "\n",
    "\n",
    "*   Both models perform well (AP ~0.91 vs ~0.90)\n",
    "*   Mean averaging is slightly better - higher precision at mid recall.\n",
    "*   TF-IDF gives no real gain - curve mostly below mean\n",
    "*   At very low recall TF-IDF = high precision, but it misses most spam\n",
    "\n",
    "**Conclusion: simple averaging + pretrained embeddings is the stronger baseline here.**\n",
    "\n",
    "\n",
    "\n",
    "\n",
    "\n",
    "\n",
    "\n",
    "\n",
    "\n"
   ],
   "metadata": {
    "id": "zNzrB1odC8mR"
   }
  }
 ]
}
